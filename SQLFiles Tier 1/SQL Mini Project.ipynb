{
 "cells": [
  {
   "cell_type": "code",
   "execution_count": 1,
   "metadata": {},
   "outputs": [],
   "source": [
    "import sqlite3\n",
    "from sqlite3 import Error"
   ]
  },
  {
   "cell_type": "code",
   "execution_count": 2,
   "metadata": {},
   "outputs": [],
   "source": [
    "def create_connection(db_file):\n",
    "    \"\"\" create a database connection to the SQLite database\n",
    "        specified by the db_file\n",
    "    :param db_file: database file\n",
    "    :return: Connection object or None\n",
    "    \"\"\"\n",
    "    conn = None\n",
    "    try:\n",
    "        conn = sqlite3.connect(db_file)\n",
    "        print(sqlite3.version)\n",
    "    except Error as e:\n",
    "        print(e)\n",
    " \n",
    "    return conn"
   ]
  },
  {
   "cell_type": "code",
   "execution_count": 3,
   "metadata": {},
   "outputs": [],
   "source": [
    "def select_all_tasks(conn, query1):\n",
    "    \"\"\"\n",
    "    Query all rows in the tasks table\n",
    "    :param conn: the Connection object\n",
    "    :return:\n",
    "    \"\"\"\n",
    "    cur = conn.cursor()\n",
    "    \n",
    "    #query1 = \"\"\"\n",
    "        #SELECT *\n",
    "        #FROM FACILITIES\n",
    "        #\"\"\"\n",
    "    cur.execute(query1)\n",
    " \n",
    "    rows = cur.fetchall()\n",
    " \n",
    "    for row in rows:\n",
    "        print(row)"
   ]
  },
  {
   "cell_type": "code",
   "execution_count": 4,
   "metadata": {},
   "outputs": [],
   "source": [
    "def main(query1):\n",
    "    database = \"sqlite_db_pythonsqlite.db\"\n",
    " \n",
    "    # create a database connection\n",
    "    conn = create_connection(database)\n",
    "    with conn: \n",
    "        print(\"2. Query all tasks\")\n",
    "        select_all_tasks(conn, query1)"
   ]
  },
  {
   "cell_type": "markdown",
   "metadata": {},
   "source": [
    "Q1: Some of the facilities charge a fee to members, but some do not.\n",
    "Write a SQL query to produce a list of the names of the facilities that do."
   ]
  },
  {
   "cell_type": "code",
   "execution_count": 5,
   "metadata": {},
   "outputs": [
    {
     "name": "stdout",
     "output_type": "stream",
     "text": [
      "2.6.0\n",
      "2. Query all tasks\n",
      "('Tennis Court 1',)\n",
      "('Tennis Court 2',)\n",
      "('Massage Room 1',)\n",
      "('Massage Room 2',)\n",
      "('Squash Court',)\n"
     ]
    }
   ],
   "source": [
    "query1 = \"\"\"\n",
    "        SELECT name\n",
    "        FROM FACILITIES\n",
    "        WHERE membercost>0\n",
    "        \"\"\"\n",
    "main(query1)"
   ]
  },
  {
   "cell_type": "markdown",
   "metadata": {},
   "source": [
    "Q2: How many facilities do not charge a fee to members?"
   ]
  },
  {
   "cell_type": "code",
   "execution_count": 6,
   "metadata": {},
   "outputs": [
    {
     "name": "stdout",
     "output_type": "stream",
     "text": [
      "2.6.0\n",
      "2. Query all tasks\n",
      "(4,)\n"
     ]
    }
   ],
   "source": [
    "query1 = \"\"\"\n",
    "        SELECT COUNT(*) \n",
    "        FROM FACILITIES\n",
    "        WHERE membercost=0\n",
    "        \"\"\"\n",
    "main(query1)"
   ]
  },
  {
   "cell_type": "markdown",
   "metadata": {},
   "source": [
    "Q3: Write an SQL query to show a list of facilities that charge a fee to members,\n",
    "where the fee is less than 20% of the facility's monthly maintenance cost.\n",
    "Return the facid, facility name, member cost, and monthly maintenance of the\n",
    "facilities in question."
   ]
  },
  {
   "cell_type": "code",
   "execution_count": 7,
   "metadata": {},
   "outputs": [
    {
     "name": "stdout",
     "output_type": "stream",
     "text": [
      "2.6.0\n",
      "2. Query all tasks\n",
      "(0, 'Tennis Court 1', 5, 200)\n",
      "(1, 'Tennis Court 2', 5, 200)\n",
      "(4, 'Massage Room 1', 9.9, 3000)\n",
      "(5, 'Massage Room 2', 9.9, 3000)\n",
      "(6, 'Squash Court', 3.5, 80)\n"
     ]
    }
   ],
   "source": [
    "query1 = \"\"\"\n",
    "        SELECT facid, name, membercost, monthlymaintenance\n",
    "        FROM FACILITIES\n",
    "        WHERE membercost>0\n",
    "        AND membercost < monthlymaintenance*0.2\n",
    "        \"\"\"\n",
    "main(query1)"
   ]
  },
  {
   "cell_type": "markdown",
   "metadata": {},
   "source": [
    "Q4: Write an SQL query to retrieve the details of facilities with ID 1 and 5.\n",
    "Try writing the query without using the OR operator."
   ]
  },
  {
   "cell_type": "code",
   "execution_count": 8,
   "metadata": {},
   "outputs": [
    {
     "name": "stdout",
     "output_type": "stream",
     "text": [
      "2.6.0\n",
      "2. Query all tasks\n",
      "(1, 'Tennis Court 2', 5, 25, 8000, 200)\n",
      "(5, 'Massage Room 2', 9.9, 80, 4000, 3000)\n"
     ]
    }
   ],
   "source": [
    "query1 = \"\"\"\n",
    "        SELECT *\n",
    "        FROM FACILITIES\n",
    "        WHERE facid in (1,5)\n",
    "        \"\"\"\n",
    "main(query1)"
   ]
  },
  {
   "cell_type": "markdown",
   "metadata": {},
   "source": [
    "Q5: Produce a list of facilities, with each labelled as\n",
    "'cheap' or 'expensive', depending on if their monthly maintenance cost is\n",
    "more than $100. Return the name and monthly maintenance of the facilities\n",
    "in question."
   ]
  },
  {
   "cell_type": "code",
   "execution_count": 9,
   "metadata": {},
   "outputs": [
    {
     "name": "stdout",
     "output_type": "stream",
     "text": [
      "2.6.0\n",
      "2. Query all tasks\n",
      "('Tennis Court 1', 200, 'expensive')\n",
      "('Tennis Court 2', 200, 'expensive')\n",
      "('Badminton Court', 50, 'cheap')\n",
      "('Table Tennis', 10, 'cheap')\n",
      "('Massage Room 1', 3000, 'expensive')\n",
      "('Massage Room 2', 3000, 'expensive')\n",
      "('Squash Court', 80, 'cheap')\n",
      "('Snooker Table', 15, 'cheap')\n",
      "('Pool Table', 15, 'cheap')\n"
     ]
    }
   ],
   "source": [
    "query1 = \"\"\"\n",
    "        SELECT name, monthlymaintenance,\n",
    "        CASE WHEN monthlymaintenance > 100 THEN 'expensive' ELSE 'cheap' END AS label\n",
    "        FROM FACILITIES\n",
    "        \"\"\"\n",
    "main(query1)"
   ]
  },
  {
   "cell_type": "markdown",
   "metadata": {},
   "source": [
    "Q6: You'd like to get the first and last name of the last member(s)\n",
    "who signed up. Try not to use the LIMIT clause for your solution."
   ]
  },
  {
   "cell_type": "code",
   "execution_count": 10,
   "metadata": {},
   "outputs": [
    {
     "name": "stdout",
     "output_type": "stream",
     "text": [
      "2.6.0\n",
      "2. Query all tasks\n",
      "('Darren', 'Smith')\n"
     ]
    }
   ],
   "source": [
    "query1 = \"\"\"\n",
    "        SELECT firstname, surname\n",
    "        FROM Members\n",
    "        WHERE joindate = (\n",
    "        SELECT MAX(joindate) \n",
    "        FROM Members)\n",
    "        \"\"\"\n",
    "main(query1)"
   ]
  },
  {
   "cell_type": "markdown",
   "metadata": {},
   "source": [
    "Q7: Produce a list of all members who have used a tennis court.\n",
    "Include in your output the name of the court, and the name of the member\n",
    "formatted as a single column. Ensure no duplicate data, and order by\n",
    "the member name."
   ]
  },
  {
   "cell_type": "code",
   "execution_count": 11,
   "metadata": {},
   "outputs": [
    {
     "name": "stdout",
     "output_type": "stream",
     "text": [
      "2.6.0\n",
      "2. Query all tasks\n",
      "('Tennis Court 1', 'Anne Baker')\n",
      "('Tennis Court 2', 'Anne Baker')\n",
      "('Tennis Court 1', 'Burton Tracy')\n",
      "('Tennis Court 2', 'Burton Tracy')\n",
      "('Tennis Court 1', 'Charles Owen')\n",
      "('Tennis Court 2', 'Charles Owen')\n",
      "('Tennis Court 2', 'Darren Smith')\n",
      "('Tennis Court 1', 'David Farrell')\n",
      "('Tennis Court 2', 'David Farrell')\n",
      "('Tennis Court 1', 'David Jones')\n",
      "('Tennis Court 2', 'David Jones')\n",
      "('Tennis Court 1', 'David Pinker')\n",
      "('Tennis Court 1', 'Douglas Jones')\n",
      "('Tennis Court 1', 'Erica Crumpet')\n",
      "('Tennis Court 1', 'Florence Bader')\n",
      "('Tennis Court 2', 'Florence Bader')\n",
      "('Tennis Court 1', 'GUEST GUEST')\n",
      "('Tennis Court 2', 'GUEST GUEST')\n",
      "('Tennis Court 1', 'Gerald Butters')\n",
      "('Tennis Court 2', 'Gerald Butters')\n",
      "('Tennis Court 2', 'Henrietta Rumney')\n",
      "('Tennis Court 1', 'Jack Smith')\n",
      "('Tennis Court 2', 'Jack Smith')\n",
      "('Tennis Court 1', 'Janice Joplette')\n",
      "('Tennis Court 2', 'Janice Joplette')\n",
      "('Tennis Court 1', 'Jemima Farrell')\n",
      "('Tennis Court 2', 'Jemima Farrell')\n",
      "('Tennis Court 1', 'Joan Coplin')\n",
      "('Tennis Court 1', 'John Hunt')\n",
      "('Tennis Court 2', 'John Hunt')\n",
      "('Tennis Court 1', 'Matthew Genting')\n",
      "('Tennis Court 2', 'Millicent Purview')\n",
      "('Tennis Court 1', 'Nancy Dare')\n",
      "('Tennis Court 2', 'Nancy Dare')\n",
      "('Tennis Court 1', 'Ponder Stibbons')\n",
      "('Tennis Court 2', 'Ponder Stibbons')\n",
      "('Tennis Court 1', 'Ramnaresh Sarwin')\n",
      "('Tennis Court 2', 'Ramnaresh Sarwin')\n",
      "('Tennis Court 1', 'Tim Boothe')\n",
      "('Tennis Court 2', 'Tim Boothe')\n",
      "('Tennis Court 1', 'Tim Rownam')\n",
      "('Tennis Court 2', 'Tim Rownam')\n",
      "('Tennis Court 1', 'Timothy Baker')\n",
      "('Tennis Court 2', 'Timothy Baker')\n",
      "('Tennis Court 1', 'Tracy Smith')\n",
      "('Tennis Court 2', 'Tracy Smith')\n"
     ]
    }
   ],
   "source": [
    "query1 = \"\"\" \n",
    "        SELECT sub.court, sub.firstname||' '||sub.surname AS name\n",
    "        FROM \n",
    "        (SELECT Facilities.name AS court, Members.firstname AS firstname, Members.surname AS surname\n",
    "        FROM Bookings\n",
    "        INNER JOIN Facilities ON Bookings.facid = Facilities.facid\n",
    "        AND Facilities.name LIKE  'Tennis Court%'\n",
    "        INNER JOIN Members ON Bookings.memid = Members.memid)\n",
    "        sub\n",
    "        GROUP BY sub.court, sub.firstname, sub.surname\n",
    "        ORDER BY name\n",
    "        \"\"\"\n",
    "main(query1)"
   ]
  },
  {
   "cell_type": "markdown",
   "metadata": {},
   "source": [
    "Q8: Produce a list of bookings on the day of 2012-09-14 which\n",
    "will cost the member (or guest) more than $30. Remember that guests have\n",
    "different costs to members (the listed costs are per half-hour 'slot'), and\n",
    "the guest user's ID is always 0. Include in your output the name of the\n",
    "facility, the name of the member formatted as a single column, and the cost.\n",
    "Order by descending cost, and do not use any subqueries."
   ]
  },
  {
   "cell_type": "code",
   "execution_count": 12,
   "metadata": {},
   "outputs": [
    {
     "name": "stdout",
     "output_type": "stream",
     "text": [
      "2.6.0\n",
      "2. Query all tasks\n",
      "('Massage Room 2', 'GUEST GUEST', 320)\n",
      "('Massage Room 1', 'GUEST GUEST', 160)\n",
      "('Massage Room 1', 'GUEST GUEST', 160)\n",
      "('Massage Room 1', 'GUEST GUEST', 160)\n",
      "('Tennis Court 2', 'GUEST GUEST', 150)\n",
      "('Tennis Court 1', 'GUEST GUEST', 75)\n",
      "('Tennis Court 1', 'GUEST GUEST', 75)\n",
      "('Tennis Court 2', 'GUEST GUEST', 75)\n",
      "('Squash Court', 'GUEST GUEST', 70.0)\n",
      "('Massage Room 1', 'Jemima Farrell', 39.6)\n",
      "('Squash Court', 'GUEST GUEST', 35.0)\n",
      "('Squash Court', 'GUEST GUEST', 35.0)\n"
     ]
    }
   ],
   "source": [
    "query1 = \"\"\"\n",
    "        SELECT Facilities.name AS facility, Members.firstname||' '||Members.surname  AS name, \n",
    "        CASE WHEN Bookings.memid = 0\n",
    "        THEN Facilities.guestcost * Bookings.slots\n",
    "        ELSE Facilities.membercost * Bookings.slots\n",
    "        END AS cost\n",
    "        FROM Bookings\n",
    "        INNER JOIN Facilities ON Bookings.facid = Facilities.facid\n",
    "        AND Bookings.starttime LIKE '2012-09-14%'\n",
    "        AND (((Bookings.memid =0) AND (Facilities.guestcost * Bookings.slots >30))\n",
    "        OR ((Bookings.memid !=0) AND (Facilities.membercost * Bookings.slots >30)))\n",
    "        INNER JOIN Members ON Bookings.memid = Members.memid\n",
    "        ORDER BY cost DESC\n",
    "        \"\"\"\n",
    "main(query1)"
   ]
  },
  {
   "cell_type": "markdown",
   "metadata": {},
   "source": [
    "Q9: This time, produce the same result as in Q8, but using a subquery."
   ]
  },
  {
   "cell_type": "code",
   "execution_count": 13,
   "metadata": {},
   "outputs": [
    {
     "name": "stdout",
     "output_type": "stream",
     "text": [
      "2.6.0\n",
      "2. Query all tasks\n",
      "('Massage Room 2', 'GUEST GUEST', 320)\n",
      "('Massage Room 1', 'GUEST GUEST', 160)\n",
      "('Massage Room 1', 'GUEST GUEST', 160)\n",
      "('Massage Room 1', 'GUEST GUEST', 160)\n",
      "('Tennis Court 2', 'GUEST GUEST', 150)\n",
      "('Tennis Court 1', 'GUEST GUEST', 75)\n",
      "('Tennis Court 1', 'GUEST GUEST', 75)\n",
      "('Tennis Court 2', 'GUEST GUEST', 75)\n",
      "('Squash Court', 'GUEST GUEST', 70.0)\n",
      "('Massage Room 1', 'Jemima Farrell', 39.6)\n",
      "('Squash Court', 'GUEST GUEST', 35.0)\n",
      "('Squash Court', 'GUEST GUEST', 35.0)\n"
     ]
    }
   ],
   "source": [
    "query1 = \"\"\"\n",
    "        SELECT * \n",
    "        FROM (\n",
    "        SELECT Facilities.name AS facility, Members.firstname||' '||Members.surname AS name, \n",
    "        CASE WHEN Bookings.memid = 0\n",
    "        THEN Facilities.guestcost * Bookings.slots\n",
    "        ELSE Facilities.membercost * Bookings.slots\n",
    "        END AS cost\n",
    "        FROM Bookings\n",
    "        INNER JOIN Facilities ON Bookings.facid = Facilities.facid\n",
    "        AND Bookings.starttime LIKE '2012-09-14%'\n",
    "        INNER JOIN Members ON Bookings.memid = Members.memid\n",
    "        )sub\n",
    "        WHERE sub.cost >30\n",
    "        ORDER BY sub.cost DESC\n",
    "        \"\"\"\n",
    "main(query1)"
   ]
  },
  {
   "cell_type": "markdown",
   "metadata": {},
   "source": [
    "Q10: Produce a list of facilities with a total revenue less than 1000.\n",
    "The output of facility name and total revenue, sorted by revenue. Remember\n",
    "that there's a different cost for guests and members!"
   ]
  },
  {
   "cell_type": "code",
   "execution_count": 14,
   "metadata": {},
   "outputs": [
    {
     "name": "stdout",
     "output_type": "stream",
     "text": [
      "2.6.0\n",
      "2. Query all tasks\n",
      "('Pool Table', 270)\n",
      "('Snooker Table', 240)\n",
      "('Table Tennis', 180)\n"
     ]
    }
   ],
   "source": [
    "query1 = \"\"\"\n",
    "    SELECT * \n",
    "    FROM (\n",
    "    SELECT sub.facility, SUM( sub.cost ) AS total_revenue\n",
    "    FROM (\n",
    "    SELECT Facilities.name AS facility, \n",
    "    CASE WHEN Bookings.memid =0\n",
    "    THEN Facilities.guestcost * Bookings.slots\n",
    "    ELSE Facilities.membercost * Bookings.slots\n",
    "    END AS cost\n",
    "    FROM Bookings\n",
    "    INNER JOIN Facilities ON Bookings.facid = Facilities.facid\n",
    "    INNER JOIN Members ON Bookings.memid = Members.memid\n",
    "    )sub\n",
    "    GROUP BY sub.facility\n",
    "    )sub2\n",
    "    WHERE sub2.total_revenue <1000\n",
    "        \"\"\"\n",
    "main(query1)"
   ]
  },
  {
   "cell_type": "markdown",
   "metadata": {},
   "source": [
    "Q11: Produce a report of members and who recommended them in alphabetic surname,firstname order"
   ]
  },
  {
   "cell_type": "code",
   "execution_count": 17,
   "metadata": {},
   "outputs": [
    {
     "name": "stdout",
     "output_type": "stream",
     "text": [
      "2.6.0\n",
      "2. Query all tasks\n",
      "('Bader Florence', 'Stibbons Ponder')\n",
      "('Baker Anne', 'Stibbons Ponder')\n",
      "('Baker Timothy', 'Farrell Jemima')\n",
      "('Boothe Tim', 'Rownam Tim')\n",
      "('Butters Gerald', 'Smith Darren')\n",
      "('Coplin Joan', 'Baker Timothy')\n",
      "('Crumpet Erica', 'Smith Tracy')\n",
      "('Dare Nancy', 'Joplette Janice')\n",
      "('Genting Matthew', 'Butters Gerald')\n",
      "('Hunt John', 'Purview Millicent')\n",
      "('Jones David', 'Joplette Janice')\n",
      "('Jones Douglas', 'Jones David')\n",
      "('Joplette Janice', 'Smith Darren')\n",
      "('Mackenzie Anna', 'Smith Darren')\n",
      "('Owen Charles', 'Smith Darren')\n",
      "('Pinker David', 'Farrell Jemima')\n",
      "('Purview Millicent', 'Smith Tracy')\n",
      "('Rumney Henrietta', 'Genting Matthew')\n",
      "('Sarwin Ramnaresh', 'Bader Florence')\n",
      "('Smith Jack', 'Smith Darren')\n",
      "('Stibbons Ponder', 'Tracy Burton')\n",
      "('Worthington-Smyth Henry', 'Smith Tracy')\n"
     ]
    }
   ],
   "source": [
    "query1 = \"\"\" \n",
    "        SELECT m1.surname||' '||m1.firstname AS member, \n",
    "        m2.surname || \" \" || m2.firstname AS recommended_by\n",
    "        FROM Members AS m1\n",
    "        INNER JOIN Members AS m2\n",
    "        ON m1.recommendedby = m2.memid\n",
    "        WHERE m1.recommendedby IS NOT NULL AND m1.recommendedby <> 0\n",
    "        ORDER BY member\n",
    "        \"\"\"\n",
    "main(query1)"
   ]
  },
  {
   "cell_type": "markdown",
   "metadata": {},
   "source": [
    "Q12: Find the facilities with their usage by member, but not guests"
   ]
  },
  {
   "cell_type": "code",
   "execution_count": 19,
   "metadata": {},
   "outputs": [
    {
     "name": "stdout",
     "output_type": "stream",
     "text": [
      "2.6.0\n",
      "2. Query all tasks\n",
      "('Badminton Court', 1086)\n",
      "('Massage Room 1', 884)\n",
      "('Massage Room 2', 54)\n",
      "('Pool Table', 856)\n",
      "('Snooker Table', 860)\n",
      "('Squash Court', 418)\n",
      "('Table Tennis', 794)\n",
      "('Tennis Court 1', 957)\n",
      "('Tennis Court 2', 882)\n"
     ]
    }
   ],
   "source": [
    "query1 = \"\"\" \n",
    "        SELECT f.name AS Facility,\n",
    "        SUM(Slots) AS total_usage\n",
    "        FROM Bookings as b\n",
    "        LEFT JOIN Facilities as f\n",
    "        ON f.facid = b.facid\n",
    "        WHERE b.memid > 0\n",
    "        GROUP BY Facility\n",
    "        \"\"\"\n",
    "main(query1)"
   ]
  },
  {
   "cell_type": "markdown",
   "metadata": {},
   "source": [
    "Q13: Find the facilities usage by month, but not guests"
   ]
  },
  {
   "cell_type": "code",
   "execution_count": 22,
   "metadata": {},
   "outputs": [
    {
     "name": "stdout",
     "output_type": "stream",
     "text": [
      "2.6.0\n",
      "2. Query all tasks\n",
      "('Badminton Court', None, 1209)\n",
      "('Massage Room 1', None, 1404)\n",
      "('Massage Room 2', None, 228)\n",
      "('Pool Table', None, 910)\n",
      "('Snooker Table', None, 908)\n",
      "('Squash Court', None, 1104)\n",
      "('Table Tennis', None, 830)\n",
      "('Tennis Court 1', None, 1320)\n",
      "('Tennis Court 2', None, 1278)\n"
     ]
    }
   ],
   "source": [
    "query1 = \"\"\" \n",
    "        SELECT f.name AS facility,\n",
    "          strftime('%,m', starttime) AS month,\n",
    "          SUM(slots) AS total_usage\n",
    "        FROM Bookings as b\n",
    "        LEFT JOIN Facilities as f\n",
    "        ON f.facid = b.facid\n",
    "        GROUP BY facility, month;\n",
    "        \"\"\"\n",
    "main(query1)"
   ]
  },
  {
   "cell_type": "code",
   "execution_count": null,
   "metadata": {},
   "outputs": [],
   "source": []
  }
 ],
 "metadata": {
  "kernelspec": {
   "display_name": "Python 3",
   "language": "python",
   "name": "python3"
  },
  "language_info": {
   "codemirror_mode": {
    "name": "ipython",
    "version": 3
   },
   "file_extension": ".py",
   "mimetype": "text/x-python",
   "name": "python",
   "nbconvert_exporter": "python",
   "pygments_lexer": "ipython3",
   "version": "3.7.3"
  }
 },
 "nbformat": 4,
 "nbformat_minor": 2
}
