{
 "cells": [
  {
   "cell_type": "code",
   "execution_count": 1,
   "id": "e360f6ae",
   "metadata": {},
   "outputs": [],
   "source": [
    "import pandas as pd\n",
    "import numpy as np\n",
    "import matplotlib.pyplot as plt\n",
    "import seaborn as sns\n",
    "import json\n",
    "from pandas.io.json import json_normalize"
   ]
  },
  {
   "cell_type": "code",
   "execution_count": 2,
   "id": "466a579d",
   "metadata": {},
   "outputs": [],
   "source": [
    "logindf = pd.read_json('logins.json')"
   ]
  },
  {
   "cell_type": "code",
   "execution_count": 3,
   "id": "c60a30f2",
   "metadata": {},
   "outputs": [
    {
     "data": {
      "text/html": [
       "<div>\n",
       "<style scoped>\n",
       "    .dataframe tbody tr th:only-of-type {\n",
       "        vertical-align: middle;\n",
       "    }\n",
       "\n",
       "    .dataframe tbody tr th {\n",
       "        vertical-align: top;\n",
       "    }\n",
       "\n",
       "    .dataframe thead th {\n",
       "        text-align: right;\n",
       "    }\n",
       "</style>\n",
       "<table border=\"1\" class=\"dataframe\">\n",
       "  <thead>\n",
       "    <tr style=\"text-align: right;\">\n",
       "      <th></th>\n",
       "      <th>login_time</th>\n",
       "    </tr>\n",
       "  </thead>\n",
       "  <tbody>\n",
       "    <tr>\n",
       "      <th>0</th>\n",
       "      <td>1970-01-01 20:13:18</td>\n",
       "    </tr>\n",
       "    <tr>\n",
       "      <th>1</th>\n",
       "      <td>1970-01-01 20:16:10</td>\n",
       "    </tr>\n",
       "    <tr>\n",
       "      <th>2</th>\n",
       "      <td>1970-01-01 20:16:37</td>\n",
       "    </tr>\n",
       "    <tr>\n",
       "      <th>3</th>\n",
       "      <td>1970-01-01 20:16:36</td>\n",
       "    </tr>\n",
       "    <tr>\n",
       "      <th>4</th>\n",
       "      <td>1970-01-01 20:26:21</td>\n",
       "    </tr>\n",
       "  </tbody>\n",
       "</table>\n",
       "</div>"
      ],
      "text/plain": [
       "           login_time\n",
       "0 1970-01-01 20:13:18\n",
       "1 1970-01-01 20:16:10\n",
       "2 1970-01-01 20:16:37\n",
       "3 1970-01-01 20:16:36\n",
       "4 1970-01-01 20:26:21"
      ]
     },
     "execution_count": 3,
     "metadata": {},
     "output_type": "execute_result"
    }
   ],
   "source": [
    "logindf.head()"
   ]
  },
  {
   "cell_type": "code",
   "execution_count": 4,
   "id": "9d779a00",
   "metadata": {},
   "outputs": [
    {
     "data": {
      "text/html": [
       "<div>\n",
       "<style scoped>\n",
       "    .dataframe tbody tr th:only-of-type {\n",
       "        vertical-align: middle;\n",
       "    }\n",
       "\n",
       "    .dataframe tbody tr th {\n",
       "        vertical-align: top;\n",
       "    }\n",
       "\n",
       "    .dataframe thead th {\n",
       "        text-align: right;\n",
       "    }\n",
       "</style>\n",
       "<table border=\"1\" class=\"dataframe\">\n",
       "  <thead>\n",
       "    <tr style=\"text-align: right;\">\n",
       "      <th></th>\n",
       "      <th>login_time</th>\n",
       "    </tr>\n",
       "  </thead>\n",
       "  <tbody>\n",
       "    <tr>\n",
       "      <th>count</th>\n",
       "      <td>93142</td>\n",
       "    </tr>\n",
       "    <tr>\n",
       "      <th>mean</th>\n",
       "      <td>1970-02-26 19:09:39.779648278</td>\n",
       "    </tr>\n",
       "    <tr>\n",
       "      <th>min</th>\n",
       "      <td>1970-01-01 20:12:16</td>\n",
       "    </tr>\n",
       "    <tr>\n",
       "      <th>25%</th>\n",
       "      <td>1970-02-04 10:37:19.750000</td>\n",
       "    </tr>\n",
       "    <tr>\n",
       "      <th>50%</th>\n",
       "      <td>1970-03-01 06:33:05.500000</td>\n",
       "    </tr>\n",
       "    <tr>\n",
       "      <th>75%</th>\n",
       "      <td>1970-03-22 04:01:10.750000</td>\n",
       "    </tr>\n",
       "    <tr>\n",
       "      <th>max</th>\n",
       "      <td>1970-04-13 18:57:38</td>\n",
       "    </tr>\n",
       "  </tbody>\n",
       "</table>\n",
       "</div>"
      ],
      "text/plain": [
       "                          login_time\n",
       "count                          93142\n",
       "mean   1970-02-26 19:09:39.779648278\n",
       "min              1970-01-01 20:12:16\n",
       "25%       1970-02-04 10:37:19.750000\n",
       "50%       1970-03-01 06:33:05.500000\n",
       "75%       1970-03-22 04:01:10.750000\n",
       "max              1970-04-13 18:57:38"
      ]
     },
     "execution_count": 4,
     "metadata": {},
     "output_type": "execute_result"
    }
   ],
   "source": [
    "logindf.describe(datetime_is_numeric=True)"
   ]
  },
  {
   "cell_type": "markdown",
   "id": "31650d80",
   "metadata": {},
   "source": [
    "# Part 1 - Exploratory data analysis"
   ]
  },
  {
   "cell_type": "code",
   "execution_count": 5,
   "id": "73ac9acc",
   "metadata": {},
   "outputs": [],
   "source": [
    "logindf = logindf.sort_values('login_time')\n",
    "logindf = logindf.reset_index(drop=True)"
   ]
  },
  {
   "cell_type": "code",
   "execution_count": 6,
   "id": "afac1884",
   "metadata": {},
   "outputs": [],
   "source": [
    "#aggregate login counts based on 15 minute time intervals\n",
    "period = pd.date_range('1970-01-01 20:00:00', '1970-04-13 19:00:00', freq='15T')\n",
    "logins = pd.Series(np.zeros(len(period)), index=period)\n",
    "x = 0 \n",
    "for i in range(len(logindf)):\n",
    "    first = logins.index[x] \n",
    "    last = logins.index[x+1] \n",
    "    time = logindf['login_time'][i]\n",
    "    if first < time < last:\n",
    "        logins[x] = logins[x] + 1\n",
    "    else:\n",
    "        while (last < time): \n",
    "            x = x + 1 \n",
    "            first = logins.index[x] \n",
    "            last = logins.index[x+1] \n",
    "        logins[x] = logins[x] + 1"
   ]
  },
  {
   "cell_type": "code",
   "execution_count": 7,
   "id": "d59001aa",
   "metadata": {},
   "outputs": [
    {
     "data": {
      "text/plain": [
       "1970-01-01 20:00:00    2.0\n",
       "1970-01-01 20:15:00    6.0\n",
       "1970-01-01 20:30:00    9.0\n",
       "1970-01-01 20:45:00    7.0\n",
       "1970-01-01 21:00:00    1.0\n",
       "Freq: 15T, dtype: float64"
      ]
     },
     "execution_count": 7,
     "metadata": {},
     "output_type": "execute_result"
    }
   ],
   "source": [
    "logins.head()"
   ]
  },
  {
   "cell_type": "code",
   "execution_count": 8,
   "id": "259f346f",
   "metadata": {},
   "outputs": [
    {
     "data": {
      "text/plain": [
       "1970-04-13 18:00:00    5.0\n",
       "1970-04-13 18:15:00    2.0\n",
       "1970-04-13 18:30:00    7.0\n",
       "1970-04-13 18:45:00    6.0\n",
       "1970-04-13 19:00:00    0.0\n",
       "Freq: 15T, dtype: float64"
      ]
     },
     "execution_count": 8,
     "metadata": {},
     "output_type": "execute_result"
    }
   ],
   "source": [
    "logins.tail()"
   ]
  },
  {
   "cell_type": "code",
   "execution_count": 9,
   "id": "6b063a8f",
   "metadata": {},
   "outputs": [
    {
     "data": {
      "text/plain": [
       "<AxesSubplot:>"
      ]
     },
     "execution_count": 9,
     "metadata": {},
     "output_type": "execute_result"
    },
    {
     "data": {
      "image/png": "[encoded data removed]",
      "text/plain": [
       "<Figure size 432x288 with 1 Axes>"
      ]
     },
     "metadata": {
      "needs_background": "light"
     },
     "output_type": "display_data"
    }
   ],
   "source": [
    "logins.plot()"
   ]
  },
  {
   "cell_type": "code",
   "execution_count": 10,
   "id": "b85cb263",
   "metadata": {},
   "outputs": [
    {
     "data": {
      "text/plain": [
       "<AxesSubplot:>"
      ]
     },
     "execution_count": 10,
     "metadata": {},
     "output_type": "execute_result"
    },
    {
     "data": {
      "image/png": "[encoded data removed]",
      "text/plain": [
       "<Figure size 432x288 with 1 Axes>"
      ]
     },
     "metadata": {
      "needs_background": "light"
     },
     "output_type": "display_data"
    }
   ],
   "source": [
    "#Visualize for one week, which is the first 4*24*7=672 observations\n",
    "logins[0:672].plot()"
   ]
  },
  {
   "cell_type": "code",
   "execution_count": 11,
   "id": "305b8bbd",
   "metadata": {},
   "outputs": [
    {
     "data": {
      "text/plain": [
       "<AxesSubplot:>"
      ]
     },
     "execution_count": 11,
     "metadata": {},
     "output_type": "execute_result"
    },
    {
     "data": {
      "image/png": "[encoded data removed]",
      "text/plain": [
       "<Figure size 432x288 with 1 Axes>"
      ]
     },
     "metadata": {
      "needs_background": "light"
     },
     "output_type": "display_data"
    }
   ],
   "source": [
    "#Visualize for four weeks, which is the first 4*24*28=2688 observations\n",
    "logins[0:2688].plot()"
   ]
  },
  {
   "cell_type": "markdown",
   "id": "548c34c4",
   "metadata": {},
   "source": [
    "It looks like there is a consistent spike every 7 days, which corresponds to the weekend."
   ]
  },
  {
   "cell_type": "markdown",
   "id": "86182c47",
   "metadata": {},
   "source": [
    "# Part 2 - Experiments and metric design"
   ]
  },
  {
   "cell_type": "markdown",
   "id": "d734ca6b",
   "metadata": {},
   "source": [
    "\n",
    "The neighboring cities of Gotham and Metropolis have complementary circadian rhythms: on weekdays, Ultimate Gotham is most active at night, and Ultimate Metropolis is most active during the day. On weekends, there is reasonable activity in both cities.\n",
    "However, a toll bridge, with a two way toll, between the two cities causes driver partners to tend to be exclusive to each city. The Ultimate managers of city operations for the two cities have proposed an experiment to encourage driver partners to be available in both cities, by reimbursing all toll costs.\n",
    "1) What would you choose as the key measure of success of this experiment in encouraging driver partners to serve both cities, and why would you choose this metric?"
   ]
  },
  {
   "cell_type": "markdown",
   "id": "c1ebc7fd",
   "metadata": {},
   "source": [
    "I would look at the number of drivers who completed a trip in both cities on the same day during the experiment, and compare that to the number of drivers who completed a trip in both cities on the same day before the experiment. This would tell us if the change had an effect. We could take a separate look at weekdays and weekends to control for that effect."
   ]
  },
  {
   "cell_type": "markdown",
   "id": "6f38b4ca",
   "metadata": {},
   "source": [
    "2) Describe a practical experiment you would design to compare the effectiveness of the proposed change in relation to the key measure of success. Please provide details on:\n",
    "a) how you will implement the experiment\n",
    "b) what statistical test(s) you will conduct to verify the significance of the observation\n",
    "c) how you would interpret the results and provide recommendations to the city operations team along with any caveats."
   ]
  },
  {
   "cell_type": "markdown",
   "id": "d464533e",
   "metadata": {},
   "source": [
    "As stated above, I would implement an experiment where I would compare the number of drivers who completed a trip in both cities on the same day after eliminating the toll fee with the number of drivers who completed a trip in both cities on the same day before eliminating the toll fee, while controlling for the weekday/weekend effect (along with any other potential significant effects). I would conduct a pair-sampled t-test to verify significance. I would want to verify the t-test at 95% significance, so the test statistic would have to be >12.706. If the results were significant, I'd recommend that the city operations team continue to reimburse tolls for Ultimate drivers, particularly on weekdays."
   ]
  },
  {
   "cell_type": "markdown",
   "id": "62424637",
   "metadata": {},
   "source": [
    "# Part 3 - Predictive modeling"
   ]
  },
  {
   "cell_type": "code",
   "execution_count": 28,
   "id": "2e689638",
   "metadata": {},
   "outputs": [
    {
     "data": {
      "text/html": [
       "<div>\n",
       "<style scoped>\n",
       "    .dataframe tbody tr th:only-of-type {\n",
       "        vertical-align: middle;\n",
       "    }\n",
       "\n",
       "    .dataframe tbody tr th {\n",
       "        vertical-align: top;\n",
       "    }\n",
       "\n",
       "    .dataframe thead th {\n",
       "        text-align: right;\n",
       "    }\n",
       "</style>\n",
       "<table border=\"1\" class=\"dataframe\">\n",
       "  <thead>\n",
       "    <tr style=\"text-align: right;\">\n",
       "      <th></th>\n",
       "      <th>city</th>\n",
       "      <th>trips_in_first_30_days</th>\n",
       "      <th>signup_date</th>\n",
       "      <th>avg_rating_of_driver</th>\n",
       "      <th>avg_surge</th>\n",
       "      <th>last_trip_date</th>\n",
       "      <th>phone</th>\n",
       "      <th>surge_pct</th>\n",
       "      <th>ultimate_black_user</th>\n",
       "      <th>weekday_pct</th>\n",
       "      <th>avg_dist</th>\n",
       "      <th>avg_rating_by_driver</th>\n",
       "    </tr>\n",
       "  </thead>\n",
       "  <tbody>\n",
       "    <tr>\n",
       "      <th>0</th>\n",
       "      <td>King's Landing</td>\n",
       "      <td>4</td>\n",
       "      <td>2014-01-25</td>\n",
       "      <td>4.7</td>\n",
       "      <td>1.10</td>\n",
       "      <td>2014-06-17</td>\n",
       "      <td>iPhone</td>\n",
       "      <td>15.4</td>\n",
       "      <td>True</td>\n",
       "      <td>46.2</td>\n",
       "      <td>3.67</td>\n",
       "      <td>5.0</td>\n",
       "    </tr>\n",
       "    <tr>\n",
       "      <th>1</th>\n",
       "      <td>Astapor</td>\n",
       "      <td>0</td>\n",
       "      <td>2014-01-29</td>\n",
       "      <td>5.0</td>\n",
       "      <td>1.00</td>\n",
       "      <td>2014-05-05</td>\n",
       "      <td>Android</td>\n",
       "      <td>0.0</td>\n",
       "      <td>False</td>\n",
       "      <td>50.0</td>\n",
       "      <td>8.26</td>\n",
       "      <td>5.0</td>\n",
       "    </tr>\n",
       "    <tr>\n",
       "      <th>2</th>\n",
       "      <td>Astapor</td>\n",
       "      <td>3</td>\n",
       "      <td>2014-01-06</td>\n",
       "      <td>4.3</td>\n",
       "      <td>1.00</td>\n",
       "      <td>2014-01-07</td>\n",
       "      <td>iPhone</td>\n",
       "      <td>0.0</td>\n",
       "      <td>False</td>\n",
       "      <td>100.0</td>\n",
       "      <td>0.77</td>\n",
       "      <td>5.0</td>\n",
       "    </tr>\n",
       "    <tr>\n",
       "      <th>3</th>\n",
       "      <td>King's Landing</td>\n",
       "      <td>9</td>\n",
       "      <td>2014-01-10</td>\n",
       "      <td>4.6</td>\n",
       "      <td>1.14</td>\n",
       "      <td>2014-06-29</td>\n",
       "      <td>iPhone</td>\n",
       "      <td>20.0</td>\n",
       "      <td>True</td>\n",
       "      <td>80.0</td>\n",
       "      <td>2.36</td>\n",
       "      <td>4.9</td>\n",
       "    </tr>\n",
       "    <tr>\n",
       "      <th>4</th>\n",
       "      <td>Winterfell</td>\n",
       "      <td>14</td>\n",
       "      <td>2014-01-27</td>\n",
       "      <td>4.4</td>\n",
       "      <td>1.19</td>\n",
       "      <td>2014-03-15</td>\n",
       "      <td>Android</td>\n",
       "      <td>11.8</td>\n",
       "      <td>False</td>\n",
       "      <td>82.4</td>\n",
       "      <td>3.13</td>\n",
       "      <td>4.9</td>\n",
       "    </tr>\n",
       "  </tbody>\n",
       "</table>\n",
       "</div>"
      ],
      "text/plain": [
       "             city  trips_in_first_30_days signup_date  avg_rating_of_driver  \\\n",
       "0  King's Landing                       4  2014-01-25                   4.7   \n",
       "1         Astapor                       0  2014-01-29                   5.0   \n",
       "2         Astapor                       3  2014-01-06                   4.3   \n",
       "3  King's Landing                       9  2014-01-10                   4.6   \n",
       "4      Winterfell                      14  2014-01-27                   4.4   \n",
       "\n",
       "   avg_surge last_trip_date    phone  surge_pct  ultimate_black_user  \\\n",
       "0       1.10     2014-06-17   iPhone       15.4                 True   \n",
       "1       1.00     2014-05-05  Android        0.0                False   \n",
       "2       1.00     2014-01-07   iPhone        0.0                False   \n",
       "3       1.14     2014-06-29   iPhone       20.0                 True   \n",
       "4       1.19     2014-03-15  Android       11.8                False   \n",
       "\n",
       "   weekday_pct  avg_dist  avg_rating_by_driver  \n",
       "0         46.2      3.67                   5.0  \n",
       "1         50.0      8.26                   5.0  \n",
       "2        100.0      0.77                   5.0  \n",
       "3         80.0      2.36                   4.9  \n",
       "4         82.4      3.13                   4.9  "
      ]
     },
     "execution_count": 28,
     "metadata": {},
     "output_type": "execute_result"
    }
   ],
   "source": [
    "with open('./ultimate_data_challenge.json') as j:\n",
    "    data = json.load(j)\n",
    "\n",
    "ultimatedf = pd.DataFrame(data)\n",
    "ultimatedf.head()"
   ]
  },
  {
   "cell_type": "code",
   "execution_count": 29,
   "id": "462f25b4",
   "metadata": {},
   "outputs": [
    {
     "name": "stdout",
     "output_type": "stream",
     "text": [
      "<class 'pandas.core.frame.DataFrame'>\n",
      "RangeIndex: 50000 entries, 0 to 49999\n",
      "Data columns (total 12 columns):\n",
      " #   Column                  Non-Null Count  Dtype  \n",
      "---  ------                  --------------  -----  \n",
      " 0   city                    50000 non-null  object \n",
      " 1   trips_in_first_30_days  50000 non-null  int64  \n",
      " 2   signup_date             50000 non-null  object \n",
      " 3   avg_rating_of_driver    41878 non-null  float64\n",
      " 4   avg_surge               50000 non-null  float64\n",
      " 5   last_trip_date          50000 non-null  object \n",
      " 6   phone                   49604 non-null  object \n",
      " 7   surge_pct               50000 non-null  float64\n",
      " 8   ultimate_black_user     50000 non-null  bool   \n",
      " 9   weekday_pct             50000 non-null  float64\n",
      " 10  avg_dist                50000 non-null  float64\n",
      " 11  avg_rating_by_driver    49799 non-null  float64\n",
      "dtypes: bool(1), float64(6), int64(1), object(4)\n",
      "memory usage: 4.2+ MB\n"
     ]
    }
   ],
   "source": [
    "ultimatedf.info()"
   ]
  },
  {
   "cell_type": "code",
   "execution_count": 30,
   "id": "eca476c6",
   "metadata": {},
   "outputs": [
    {
     "data": {
      "text/html": [
       "<div>\n",
       "<style scoped>\n",
       "    .dataframe tbody tr th:only-of-type {\n",
       "        vertical-align: middle;\n",
       "    }\n",
       "\n",
       "    .dataframe tbody tr th {\n",
       "        vertical-align: top;\n",
       "    }\n",
       "\n",
       "    .dataframe thead th {\n",
       "        text-align: right;\n",
       "    }\n",
       "</style>\n",
       "<table border=\"1\" class=\"dataframe\">\n",
       "  <thead>\n",
       "    <tr style=\"text-align: right;\">\n",
       "      <th></th>\n",
       "      <th>trips_in_first_30_days</th>\n",
       "      <th>avg_rating_of_driver</th>\n",
       "      <th>avg_surge</th>\n",
       "      <th>surge_pct</th>\n",
       "      <th>weekday_pct</th>\n",
       "      <th>avg_dist</th>\n",
       "      <th>avg_rating_by_driver</th>\n",
       "    </tr>\n",
       "  </thead>\n",
       "  <tbody>\n",
       "    <tr>\n",
       "      <th>count</th>\n",
       "      <td>50000.000000</td>\n",
       "      <td>41878.000000</td>\n",
       "      <td>50000.000000</td>\n",
       "      <td>50000.000000</td>\n",
       "      <td>50000.000000</td>\n",
       "      <td>50000.000000</td>\n",
       "      <td>49799.000000</td>\n",
       "    </tr>\n",
       "    <tr>\n",
       "      <th>mean</th>\n",
       "      <td>2.278200</td>\n",
       "      <td>4.601559</td>\n",
       "      <td>1.074764</td>\n",
       "      <td>8.849536</td>\n",
       "      <td>60.926084</td>\n",
       "      <td>5.796827</td>\n",
       "      <td>4.778158</td>\n",
       "    </tr>\n",
       "    <tr>\n",
       "      <th>std</th>\n",
       "      <td>3.792684</td>\n",
       "      <td>0.617338</td>\n",
       "      <td>0.222336</td>\n",
       "      <td>19.958811</td>\n",
       "      <td>37.081503</td>\n",
       "      <td>5.707357</td>\n",
       "      <td>0.446652</td>\n",
       "    </tr>\n",
       "    <tr>\n",
       "      <th>min</th>\n",
       "      <td>0.000000</td>\n",
       "      <td>1.000000</td>\n",
       "      <td>1.000000</td>\n",
       "      <td>0.000000</td>\n",
       "      <td>0.000000</td>\n",
       "      <td>0.000000</td>\n",
       "      <td>1.000000</td>\n",
       "    </tr>\n",
       "    <tr>\n",
       "      <th>25%</th>\n",
       "      <td>0.000000</td>\n",
       "      <td>4.300000</td>\n",
       "      <td>1.000000</td>\n",
       "      <td>0.000000</td>\n",
       "      <td>33.300000</td>\n",
       "      <td>2.420000</td>\n",
       "      <td>4.700000</td>\n",
       "    </tr>\n",
       "    <tr>\n",
       "      <th>50%</th>\n",
       "      <td>1.000000</td>\n",
       "      <td>4.900000</td>\n",
       "      <td>1.000000</td>\n",
       "      <td>0.000000</td>\n",
       "      <td>66.700000</td>\n",
       "      <td>3.880000</td>\n",
       "      <td>5.000000</td>\n",
       "    </tr>\n",
       "    <tr>\n",
       "      <th>75%</th>\n",
       "      <td>3.000000</td>\n",
       "      <td>5.000000</td>\n",
       "      <td>1.050000</td>\n",
       "      <td>8.600000</td>\n",
       "      <td>100.000000</td>\n",
       "      <td>6.940000</td>\n",
       "      <td>5.000000</td>\n",
       "    </tr>\n",
       "    <tr>\n",
       "      <th>max</th>\n",
       "      <td>125.000000</td>\n",
       "      <td>5.000000</td>\n",
       "      <td>8.000000</td>\n",
       "      <td>100.000000</td>\n",
       "      <td>100.000000</td>\n",
       "      <td>160.960000</td>\n",
       "      <td>5.000000</td>\n",
       "    </tr>\n",
       "  </tbody>\n",
       "</table>\n",
       "</div>"
      ],
      "text/plain": [
       "       trips_in_first_30_days  avg_rating_of_driver     avg_surge  \\\n",
       "count            50000.000000          41878.000000  50000.000000   \n",
       "mean                 2.278200              4.601559      1.074764   \n",
       "std                  3.792684              0.617338      0.222336   \n",
       "min                  0.000000              1.000000      1.000000   \n",
       "25%                  0.000000              4.300000      1.000000   \n",
       "50%                  1.000000              4.900000      1.000000   \n",
       "75%                  3.000000              5.000000      1.050000   \n",
       "max                125.000000              5.000000      8.000000   \n",
       "\n",
       "          surge_pct   weekday_pct      avg_dist  avg_rating_by_driver  \n",
       "count  50000.000000  50000.000000  50000.000000          49799.000000  \n",
       "mean       8.849536     60.926084      5.796827              4.778158  \n",
       "std       19.958811     37.081503      5.707357              0.446652  \n",
       "min        0.000000      0.000000      0.000000              1.000000  \n",
       "25%        0.000000     33.300000      2.420000              4.700000  \n",
       "50%        0.000000     66.700000      3.880000              5.000000  \n",
       "75%        8.600000    100.000000      6.940000              5.000000  \n",
       "max      100.000000    100.000000    160.960000              5.000000  "
      ]
     },
     "execution_count": 30,
     "metadata": {},
     "output_type": "execute_result"
    }
   ],
   "source": [
    "ultimatedf.describe()"
   ]
  },
  {
   "cell_type": "code",
   "execution_count": 31,
   "id": "1d8a838f",
   "metadata": {},
   "outputs": [],
   "source": [
    "#define active_user\n",
    "active_users = []\n",
    "for i in range(len(ultimatedf)):\n",
    "    start = pd.Timestamp(ultimatedf['signup_date'][i]) \n",
    "    end = start + pd.Timedelta('181D') \n",
    "    time = end - pd.Timedelta('30D') \n",
    "    if time <= pd.Timestamp(ultimatedf['last_trip_date'][i]) <= end:\n",
    "        active_users.append([1]) \n",
    "    else:\n",
    "        active_users.append([0])"
   ]
  },
  {
   "cell_type": "code",
   "execution_count": 32,
   "id": "99b43766",
   "metadata": {},
   "outputs": [],
   "source": [
    "active_users = pd.DataFrame(active_users, columns=['active'])\n",
    "df = pd.concat([ultimatedf, active_users], axis=1)"
   ]
  },
  {
   "cell_type": "code",
   "execution_count": 33,
   "id": "f307cb65",
   "metadata": {},
   "outputs": [
    {
     "data": {
      "text/html": [
       "<div>\n",
       "<style scoped>\n",
       "    .dataframe tbody tr th:only-of-type {\n",
       "        vertical-align: middle;\n",
       "    }\n",
       "\n",
       "    .dataframe tbody tr th {\n",
       "        vertical-align: top;\n",
       "    }\n",
       "\n",
       "    .dataframe thead th {\n",
       "        text-align: right;\n",
       "    }\n",
       "</style>\n",
       "<table border=\"1\" class=\"dataframe\">\n",
       "  <thead>\n",
       "    <tr style=\"text-align: right;\">\n",
       "      <th></th>\n",
       "      <th>city</th>\n",
       "      <th>trips_in_first_30_days</th>\n",
       "      <th>signup_date</th>\n",
       "      <th>avg_rating_of_driver</th>\n",
       "      <th>avg_surge</th>\n",
       "      <th>last_trip_date</th>\n",
       "      <th>phone</th>\n",
       "      <th>surge_pct</th>\n",
       "      <th>ultimate_black_user</th>\n",
       "      <th>weekday_pct</th>\n",
       "      <th>avg_dist</th>\n",
       "      <th>avg_rating_by_driver</th>\n",
       "      <th>active</th>\n",
       "    </tr>\n",
       "  </thead>\n",
       "  <tbody>\n",
       "    <tr>\n",
       "      <th>0</th>\n",
       "      <td>King's Landing</td>\n",
       "      <td>4</td>\n",
       "      <td>2014-01-25</td>\n",
       "      <td>4.7</td>\n",
       "      <td>1.10</td>\n",
       "      <td>2014-06-17</td>\n",
       "      <td>iPhone</td>\n",
       "      <td>15.4</td>\n",
       "      <td>True</td>\n",
       "      <td>46.2</td>\n",
       "      <td>3.67</td>\n",
       "      <td>5.0</td>\n",
       "      <td>0</td>\n",
       "    </tr>\n",
       "    <tr>\n",
       "      <th>1</th>\n",
       "      <td>Astapor</td>\n",
       "      <td>0</td>\n",
       "      <td>2014-01-29</td>\n",
       "      <td>5.0</td>\n",
       "      <td>1.00</td>\n",
       "      <td>2014-05-05</td>\n",
       "      <td>Android</td>\n",
       "      <td>0.0</td>\n",
       "      <td>False</td>\n",
       "      <td>50.0</td>\n",
       "      <td>8.26</td>\n",
       "      <td>5.0</td>\n",
       "      <td>0</td>\n",
       "    </tr>\n",
       "    <tr>\n",
       "      <th>2</th>\n",
       "      <td>Astapor</td>\n",
       "      <td>3</td>\n",
       "      <td>2014-01-06</td>\n",
       "      <td>4.3</td>\n",
       "      <td>1.00</td>\n",
       "      <td>2014-01-07</td>\n",
       "      <td>iPhone</td>\n",
       "      <td>0.0</td>\n",
       "      <td>False</td>\n",
       "      <td>100.0</td>\n",
       "      <td>0.77</td>\n",
       "      <td>5.0</td>\n",
       "      <td>0</td>\n",
       "    </tr>\n",
       "    <tr>\n",
       "      <th>3</th>\n",
       "      <td>King's Landing</td>\n",
       "      <td>9</td>\n",
       "      <td>2014-01-10</td>\n",
       "      <td>4.6</td>\n",
       "      <td>1.14</td>\n",
       "      <td>2014-06-29</td>\n",
       "      <td>iPhone</td>\n",
       "      <td>20.0</td>\n",
       "      <td>True</td>\n",
       "      <td>80.0</td>\n",
       "      <td>2.36</td>\n",
       "      <td>4.9</td>\n",
       "      <td>1</td>\n",
       "    </tr>\n",
       "    <tr>\n",
       "      <th>4</th>\n",
       "      <td>Winterfell</td>\n",
       "      <td>14</td>\n",
       "      <td>2014-01-27</td>\n",
       "      <td>4.4</td>\n",
       "      <td>1.19</td>\n",
       "      <td>2014-03-15</td>\n",
       "      <td>Android</td>\n",
       "      <td>11.8</td>\n",
       "      <td>False</td>\n",
       "      <td>82.4</td>\n",
       "      <td>3.13</td>\n",
       "      <td>4.9</td>\n",
       "      <td>0</td>\n",
       "    </tr>\n",
       "  </tbody>\n",
       "</table>\n",
       "</div>"
      ],
      "text/plain": [
       "             city  trips_in_first_30_days signup_date  avg_rating_of_driver  \\\n",
       "0  King's Landing                       4  2014-01-25                   4.7   \n",
       "1         Astapor                       0  2014-01-29                   5.0   \n",
       "2         Astapor                       3  2014-01-06                   4.3   \n",
       "3  King's Landing                       9  2014-01-10                   4.6   \n",
       "4      Winterfell                      14  2014-01-27                   4.4   \n",
       "\n",
       "   avg_surge last_trip_date    phone  surge_pct  ultimate_black_user  \\\n",
       "0       1.10     2014-06-17   iPhone       15.4                 True   \n",
       "1       1.00     2014-05-05  Android        0.0                False   \n",
       "2       1.00     2014-01-07   iPhone        0.0                False   \n",
       "3       1.14     2014-06-29   iPhone       20.0                 True   \n",
       "4       1.19     2014-03-15  Android       11.8                False   \n",
       "\n",
       "   weekday_pct  avg_dist  avg_rating_by_driver  active  \n",
       "0         46.2      3.67                   5.0       0  \n",
       "1         50.0      8.26                   5.0       0  \n",
       "2        100.0      0.77                   5.0       0  \n",
       "3         80.0      2.36                   4.9       1  \n",
       "4         82.4      3.13                   4.9       0  "
      ]
     },
     "execution_count": 33,
     "metadata": {},
     "output_type": "execute_result"
    }
   ],
   "source": [
    "df.head()"
   ]
  },
  {
   "cell_type": "code",
   "execution_count": 34,
   "id": "4951ce1f",
   "metadata": {},
   "outputs": [
    {
     "data": {
      "text/plain": [
       "active\n",
       "0         37802\n",
       "1         12198\n",
       "dtype: int64"
      ]
     },
     "execution_count": 34,
     "metadata": {},
     "output_type": "execute_result"
    }
   ],
   "source": [
    "active_users.value_counts()"
   ]
  },
  {
   "cell_type": "code",
   "execution_count": 35,
   "id": "21b3b35d",
   "metadata": {},
   "outputs": [
    {
     "data": {
      "text/plain": [
       "0.24396"
      ]
     },
     "execution_count": 35,
     "metadata": {},
     "output_type": "execute_result"
    }
   ],
   "source": [
    "12198/50000"
   ]
  },
  {
   "cell_type": "markdown",
   "id": "9f7f6911",
   "metadata": {},
   "source": [
    "Roughly 24.4% of users were retained."
   ]
  },
  {
   "cell_type": "markdown",
   "id": "a932a28c",
   "metadata": {},
   "source": [
    "### EDA"
   ]
  },
  {
   "cell_type": "code",
   "execution_count": 36,
   "id": "0491317d",
   "metadata": {},
   "outputs": [
    {
     "data": {
      "text/plain": [
       "<AxesSubplot:>"
      ]
     },
     "execution_count": 36,
     "metadata": {},
     "output_type": "execute_result"
    },
    {
     "data": {
      "image/png": "[encoded data removed]",
      "text/plain": [
       "<Figure size 432x288 with 2 Axes>"
      ]
     },
     "metadata": {
      "needs_background": "light"
     },
     "output_type": "display_data"
    }
   ],
   "source": [
    "sns.heatmap(df.corr())"
   ]
  },
  {
   "cell_type": "markdown",
   "id": "72adf530",
   "metadata": {},
   "source": [
    "Looks like average distance and average ratings have the biggest impact"
   ]
  },
  {
   "cell_type": "markdown",
   "id": "de63ba1d",
   "metadata": {},
   "source": [
    "#### Categorical Feature EDA"
   ]
  },
  {
   "cell_type": "code",
   "execution_count": 41,
   "id": "662342ea",
   "metadata": {},
   "outputs": [
    {
     "data": {
      "text/html": [
       "<div>\n",
       "<style scoped>\n",
       "    .dataframe tbody tr th:only-of-type {\n",
       "        vertical-align: middle;\n",
       "    }\n",
       "\n",
       "    .dataframe tbody tr th {\n",
       "        vertical-align: top;\n",
       "    }\n",
       "\n",
       "    .dataframe thead th {\n",
       "        text-align: right;\n",
       "    }\n",
       "</style>\n",
       "<table border=\"1\" class=\"dataframe\">\n",
       "  <thead>\n",
       "    <tr style=\"text-align: right;\">\n",
       "      <th></th>\n",
       "      <th>Astapor</th>\n",
       "      <th>King's Landing</th>\n",
       "      <th>Winterfell</th>\n",
       "      <th>Total</th>\n",
       "    </tr>\n",
       "  </thead>\n",
       "  <tbody>\n",
       "    <tr>\n",
       "      <th>Inactive</th>\n",
       "      <td>13838</td>\n",
       "      <td>6099</td>\n",
       "      <td>17865</td>\n",
       "      <td>37802</td>\n",
       "    </tr>\n",
       "    <tr>\n",
       "      <th>Active</th>\n",
       "      <td>2696</td>\n",
       "      <td>4031</td>\n",
       "      <td>5471</td>\n",
       "      <td>12198</td>\n",
       "    </tr>\n",
       "    <tr>\n",
       "      <th>Total</th>\n",
       "      <td>16534</td>\n",
       "      <td>10130</td>\n",
       "      <td>23336</td>\n",
       "      <td>50000</td>\n",
       "    </tr>\n",
       "  </tbody>\n",
       "</table>\n",
       "</div>"
      ],
      "text/plain": [
       "          Astapor  King's Landing  Winterfell  Total\n",
       "Inactive    13838            6099       17865  37802\n",
       "Active       2696            4031        5471  12198\n",
       "Total       16534           10130       23336  50000"
      ]
     },
     "execution_count": 41,
     "metadata": {},
     "output_type": "execute_result"
    }
   ],
   "source": [
    "city = pd.crosstab(index=df[\"active\"], \n",
    "                            columns=df[\"city\"],\n",
    "                             margins=True)\n",
    "\n",
    "city.columns = [\"Astapor\",\"King's Landing\",'Winterfell', 'Total']\n",
    "city.index= [\"Inactive\",\"Active\", 'Total']\n",
    "\n",
    "city"
   ]
  },
  {
   "cell_type": "markdown",
   "id": "5c410ea3",
   "metadata": {},
   "source": [
    "Looks like King's Landing has the highest percentage of active users and Astapor has the lowest percentage of active users."
   ]
  },
  {
   "cell_type": "code",
   "execution_count": 42,
   "id": "159c07c9",
   "metadata": {},
   "outputs": [
    {
     "data": {
      "text/html": [
       "<div>\n",
       "<style scoped>\n",
       "    .dataframe tbody tr th:only-of-type {\n",
       "        vertical-align: middle;\n",
       "    }\n",
       "\n",
       "    .dataframe tbody tr th {\n",
       "        vertical-align: top;\n",
       "    }\n",
       "\n",
       "    .dataframe thead th {\n",
       "        text-align: right;\n",
       "    }\n",
       "</style>\n",
       "<table border=\"1\" class=\"dataframe\">\n",
       "  <thead>\n",
       "    <tr style=\"text-align: right;\">\n",
       "      <th></th>\n",
       "      <th>Android</th>\n",
       "      <th>iPhone</th>\n",
       "      <th>Total</th>\n",
       "    </tr>\n",
       "  </thead>\n",
       "  <tbody>\n",
       "    <tr>\n",
       "      <th>Inactive</th>\n",
       "      <td>13096</td>\n",
       "      <td>24394</td>\n",
       "      <td>37490</td>\n",
       "    </tr>\n",
       "    <tr>\n",
       "      <th>Active</th>\n",
       "      <td>1926</td>\n",
       "      <td>10188</td>\n",
       "      <td>12114</td>\n",
       "    </tr>\n",
       "    <tr>\n",
       "      <th>Total</th>\n",
       "      <td>15022</td>\n",
       "      <td>34582</td>\n",
       "      <td>49604</td>\n",
       "    </tr>\n",
       "  </tbody>\n",
       "</table>\n",
       "</div>"
      ],
      "text/plain": [
       "          Android  iPhone  Total\n",
       "Inactive    13096   24394  37490\n",
       "Active       1926   10188  12114\n",
       "Total       15022   34582  49604"
      ]
     },
     "execution_count": 42,
     "metadata": {},
     "output_type": "execute_result"
    }
   ],
   "source": [
    "phone = pd.crosstab(index=df[\"active\"], \n",
    "                            columns=df[\"phone\"],\n",
    "                             margins=True)\n",
    "\n",
    "phone.columns = [\"Android\",\"iPhone\",'Total']\n",
    "phone.index= [\"Inactive\",\"Active\", 'Total']\n",
    "\n",
    "phone"
   ]
  },
  {
   "cell_type": "markdown",
   "id": "665afdbe",
   "metadata": {},
   "source": [
    "Looks like iPhone users are much more likely to be active than Android users"
   ]
  },
  {
   "cell_type": "code",
   "execution_count": 43,
   "id": "97dfd800",
   "metadata": {},
   "outputs": [
    {
     "data": {
      "text/html": [
       "<div>\n",
       "<style scoped>\n",
       "    .dataframe tbody tr th:only-of-type {\n",
       "        vertical-align: middle;\n",
       "    }\n",
       "\n",
       "    .dataframe tbody tr th {\n",
       "        vertical-align: top;\n",
       "    }\n",
       "\n",
       "    .dataframe thead th {\n",
       "        text-align: right;\n",
       "    }\n",
       "</style>\n",
       "<table border=\"1\" class=\"dataframe\">\n",
       "  <thead>\n",
       "    <tr style=\"text-align: right;\">\n",
       "      <th></th>\n",
       "      <th>True</th>\n",
       "      <th>False</th>\n",
       "      <th>Total</th>\n",
       "    </tr>\n",
       "  </thead>\n",
       "  <tbody>\n",
       "    <tr>\n",
       "      <th>Inactive</th>\n",
       "      <td>25204</td>\n",
       "      <td>12598</td>\n",
       "      <td>37802</td>\n",
       "    </tr>\n",
       "    <tr>\n",
       "      <th>Active</th>\n",
       "      <td>5942</td>\n",
       "      <td>6256</td>\n",
       "      <td>12198</td>\n",
       "    </tr>\n",
       "    <tr>\n",
       "      <th>Total</th>\n",
       "      <td>31146</td>\n",
       "      <td>18854</td>\n",
       "      <td>50000</td>\n",
       "    </tr>\n",
       "  </tbody>\n",
       "</table>\n",
       "</div>"
      ],
      "text/plain": [
       "           True  False  Total\n",
       "Inactive  25204  12598  37802\n",
       "Active     5942   6256  12198\n",
       "Total     31146  18854  50000"
      ]
     },
     "execution_count": 43,
     "metadata": {},
     "output_type": "execute_result"
    }
   ],
   "source": [
    "black = pd.crosstab(index=df[\"active\"], \n",
    "                            columns=df[\"ultimate_black_user\"],\n",
    "                             margins=True)\n",
    "\n",
    "black.columns = [\"True\",\"False\",'Total']\n",
    "black.index= [\"Inactive\",\"Active\", 'Total']\n",
    "\n",
    "black"
   ]
  },
  {
   "cell_type": "markdown",
   "id": "c049c32b",
   "metadata": {},
   "source": [
    "Ultimate Black users are half as likely to be active as none Ultimate Black users"
   ]
  },
  {
   "cell_type": "markdown",
   "id": "ed2415a2",
   "metadata": {},
   "source": [
    "#### Numerical Feature EDA"
   ]
  },
  {
   "cell_type": "code",
   "execution_count": 44,
   "id": "d4574212",
   "metadata": {},
   "outputs": [],
   "source": [
    "active = df[df['active']==1]\n",
    "inactive = df[df['active']==0]"
   ]
  },
  {
   "cell_type": "code",
   "execution_count": 50,
   "id": "3b331b1d",
   "metadata": {},
   "outputs": [
    {
     "data": {
      "text/plain": [
       "(array([9041., 1965.,  629.,  303.,  127.,   73.]),\n",
       " array([ 0.,  5., 10., 15., 20., 25., 30.]),\n",
       " <BarContainer object of 6 artists>)"
      ]
     },
     "execution_count": 50,
     "metadata": {},
     "output_type": "execute_result"
    },
    {
     "data": {
      "image/png": "[encoded data removed]",
      "text/plain": [
       "<Figure size 432x288 with 1 Axes>"
      ]
     },
     "metadata": {
      "needs_background": "light"
     },
     "output_type": "display_data"
    }
   ],
   "source": [
    "plt.hist(active['trips_in_first_30_days'], bins=6, range=(0,30))"
   ]
  },
  {
   "cell_type": "code",
   "execution_count": 51,
   "id": "e68388b0",
   "metadata": {},
   "outputs": [
    {
     "data": {
      "text/plain": [
       "(array([34209.,  2664.,   557.,   222.,    76.,    39.]),\n",
       " array([ 0.,  5., 10., 15., 20., 25., 30.]),\n",
       " <BarContainer object of 6 artists>)"
      ]
     },
     "execution_count": 51,
     "metadata": {},
     "output_type": "execute_result"
    },
    {
     "data": {
      "image/png": "[encoded data removed]",
      "text/plain": [
       "<Figure size 432x288 with 1 Axes>"
      ]
     },
     "metadata": {
      "needs_background": "light"
     },
     "output_type": "display_data"
    }
   ],
   "source": [
    "plt.hist(inactive['trips_in_first_30_days'], bins=6, range=(0,30))"
   ]
  },
  {
   "cell_type": "markdown",
   "id": "b4272287",
   "metadata": {},
   "source": [
    "Inactive users were more likely to have taken fewer trips in the first 30 days than active users, as expected"
   ]
  },
  {
   "cell_type": "code",
   "execution_count": 52,
   "id": "7ff07221",
   "metadata": {},
   "outputs": [
    {
     "data": {
      "text/plain": [
       "(array([2.200e+01, 1.000e+00, 2.600e+01, 2.500e+01, 3.200e+01, 3.230e+02,\n",
       "        4.940e+02, 1.099e+03, 1.889e+03, 7.414e+03]),\n",
       " array([1. , 1.4, 1.8, 2.2, 2.6, 3. , 3.4, 3.8, 4.2, 4.6, 5. ]),\n",
       " <BarContainer object of 10 artists>)"
      ]
     },
     "execution_count": 52,
     "metadata": {},
     "output_type": "execute_result"
    },
    {
     "data": {
      "image/png": "[encoded data removed]",
      "text/plain": [
       "<Figure size 432x288 with 1 Axes>"
      ]
     },
     "metadata": {
      "needs_background": "light"
     },
     "output_type": "display_data"
    }
   ],
   "source": [
    "plt.hist(active['avg_rating_of_driver'])"
   ]
  },
  {
   "cell_type": "code",
   "execution_count": 53,
   "id": "d7cfde57",
   "metadata": {},
   "outputs": [
    {
     "data": {
      "text/plain": [
       "(array([2.3400e+02, 6.0000e+00, 1.9200e+02, 9.5000e+01, 6.8000e+01,\n",
       "        1.0810e+03, 9.5800e+02, 3.7470e+03, 3.5260e+03, 2.0646e+04]),\n",
       " array([1. , 1.4, 1.8, 2.2, 2.6, 3. , 3.4, 3.8, 4.2, 4.6, 5. ]),\n",
       " <BarContainer object of 10 artists>)"
      ]
     },
     "execution_count": 53,
     "metadata": {},
     "output_type": "execute_result"
    },
    {
     "data": {
      "image/png": "[encoded data removed]",
      "text/plain": [
       "<Figure size 432x288 with 1 Axes>"
      ]
     },
     "metadata": {
      "needs_background": "light"
     },
     "output_type": "display_data"
    }
   ],
   "source": [
    "plt.hist(inactive['avg_rating_of_driver'])"
   ]
  },
  {
   "cell_type": "markdown",
   "id": "8b83960f",
   "metadata": {},
   "source": [
    "Looks like inactive and active users both tended to give high ratings to drivers"
   ]
  },
  {
   "cell_type": "code",
   "execution_count": 54,
   "id": "d891c596",
   "metadata": {},
   "outputs": [
    {
     "data": {
      "text/plain": [
       "(array([1.2000e+01, 0.0000e+00, 6.0000e+00, 0.0000e+00, 0.0000e+00,\n",
       "        4.9000e+01, 9.7000e+01, 2.7900e+02, 1.5220e+03, 1.0211e+04]),\n",
       " array([1. , 1.4, 1.8, 2.2, 2.6, 3. , 3.4, 3.8, 4.2, 4.6, 5. ]),\n",
       " <BarContainer object of 10 artists>)"
      ]
     },
     "execution_count": 54,
     "metadata": {},
     "output_type": "execute_result"
    },
    {
     "data": {
      "image/png": "[encoded data removed]",
      "text/plain": [
       "<Figure size 432x288 with 1 Axes>"
      ]
     },
     "metadata": {
      "needs_background": "light"
     },
     "output_type": "display_data"
    }
   ],
   "source": [
    "plt.hist(active['avg_rating_by_driver'])"
   ]
  },
  {
   "cell_type": "code",
   "execution_count": 55,
   "id": "ce24f3da",
   "metadata": {},
   "outputs": [
    {
     "data": {
      "text/plain": [
       "(array([1.6900e+02, 4.0000e+00, 1.2000e+02, 3.2000e+01, 5.0000e+00,\n",
       "        6.0700e+02, 4.2700e+02, 1.8010e+03, 3.1220e+03, 3.1336e+04]),\n",
       " array([1. , 1.4, 1.8, 2.2, 2.6, 3. , 3.4, 3.8, 4.2, 4.6, 5. ]),\n",
       " <BarContainer object of 10 artists>)"
      ]
     },
     "execution_count": 55,
     "metadata": {},
     "output_type": "execute_result"
    },
    {
     "data": {
      "image/png": "[encoded data removed]",
      "text/plain": [
       "<Figure size 432x288 with 1 Axes>"
      ]
     },
     "metadata": {
      "needs_background": "light"
     },
     "output_type": "display_data"
    }
   ],
   "source": [
    "plt.hist(inactive['avg_rating_by_driver'])"
   ]
  },
  {
   "cell_type": "markdown",
   "id": "e993e7e6",
   "metadata": {},
   "source": [
    "There's not much of a correlation here either; just about every driver gave their passenger 5 stars"
   ]
  },
  {
   "cell_type": "code",
   "execution_count": 56,
   "id": "095f4f90",
   "metadata": {},
   "outputs": [
    {
     "data": {
      "text/plain": [
       "(array([8.011e+03, 2.134e+03, 1.126e+03, 4.130e+02, 1.180e+02, 2.180e+02,\n",
       "        4.600e+01, 7.000e+00, 3.000e+00, 1.220e+02]),\n",
       " array([  0.,  10.,  20.,  30.,  40.,  50.,  60.,  70.,  80.,  90., 100.]),\n",
       " <BarContainer object of 10 artists>)"
      ]
     },
     "execution_count": 56,
     "metadata": {},
     "output_type": "execute_result"
    },
    {
     "data": {
      "image/png": "[encoded data removed]",
      "text/plain": [
       "<Figure size 432x288 with 1 Axes>"
      ]
     },
     "metadata": {
      "needs_background": "light"
     },
     "output_type": "display_data"
    }
   ],
   "source": [
    "plt.hist(active['surge_pct'])"
   ]
  },
  {
   "cell_type": "code",
   "execution_count": 57,
   "id": "e60a7152",
   "metadata": {},
   "outputs": [
    {
     "data": {
      "text/plain": [
       "(array([3.0037e+04, 1.9980e+03, 1.7240e+03, 1.1120e+03, 2.3600e+02,\n",
       "        1.1870e+03, 1.6900e+02, 3.2000e+01, 1.3000e+01, 1.2940e+03]),\n",
       " array([  0.,  10.,  20.,  30.,  40.,  50.,  60.,  70.,  80.,  90., 100.]),\n",
       " <BarContainer object of 10 artists>)"
      ]
     },
     "execution_count": 57,
     "metadata": {},
     "output_type": "execute_result"
    },
    {
     "data": {
      "image/png": "[encoded data removed]",
      "text/plain": [
       "<Figure size 432x288 with 1 Axes>"
      ]
     },
     "metadata": {
      "needs_background": "light"
     },
     "output_type": "display_data"
    }
   ],
   "source": [
    "plt.hist(inactive['surge_pct'])"
   ]
  },
  {
   "cell_type": "markdown",
   "id": "24d11d9d",
   "metadata": {},
   "source": [
    "People who paid surge prices of 10% or greater were much more likely to be active users"
   ]
  },
  {
   "cell_type": "code",
   "execution_count": 58,
   "id": "d291d8d6",
   "metadata": {},
   "outputs": [
    {
     "data": {
      "text/plain": [
       "(array([1.1863e+04, 3.1600e+02, 1.4000e+01, 2.0000e+00, 2.0000e+00,\n",
       "        0.0000e+00, 0.0000e+00, 0.0000e+00, 0.0000e+00, 1.0000e+00]),\n",
       " array([  0.   ,  16.096,  32.192,  48.288,  64.384,  80.48 ,  96.576,\n",
       "        112.672, 128.768, 144.864, 160.96 ]),\n",
       " <BarContainer object of 10 artists>)"
      ]
     },
     "execution_count": 58,
     "metadata": {},
     "output_type": "execute_result"
    },
    {
     "data": {
      "image/png": "[encoded data removed]",
      "text/plain": [
       "<Figure size 432x288 with 1 Axes>"
      ]
     },
     "metadata": {
      "needs_background": "light"
     },
     "output_type": "display_data"
    }
   ],
   "source": [
    "plt.hist(active['avg_dist'])"
   ]
  },
  {
   "cell_type": "code",
   "execution_count": 59,
   "id": "45059fcd",
   "metadata": {},
   "outputs": [
    {
     "data": {
      "text/plain": [
       "(array([3.3324e+04, 3.9050e+03, 4.5300e+02, 9.0000e+01, 2.3000e+01,\n",
       "        5.0000e+00, 1.0000e+00, 0.0000e+00, 0.0000e+00, 1.0000e+00]),\n",
       " array([  0.   ,  12.989,  25.978,  38.967,  51.956,  64.945,  77.934,\n",
       "         90.923, 103.912, 116.901, 129.89 ]),\n",
       " <BarContainer object of 10 artists>)"
      ]
     },
     "execution_count": 59,
     "metadata": {},
     "output_type": "execute_result"
    },
    {
     "data": {
      "image/png": "[encoded data removed]",
      "text/plain": [
       "<Figure size 432x288 with 1 Axes>"
      ]
     },
     "metadata": {
      "needs_background": "light"
     },
     "output_type": "display_data"
    }
   ],
   "source": [
    "plt.hist(inactive['avg_dist'])"
   ]
  },
  {
   "cell_type": "markdown",
   "id": "50e67cc5",
   "metadata": {},
   "source": [
    "Users with an average distance greater than 10 were much more likely to be inactive"
   ]
  },
  {
   "cell_type": "code",
   "execution_count": 61,
   "id": "08b26ed2",
   "metadata": {},
   "outputs": [
    {
     "data": {
      "text/plain": [
       "(array([ 895.,  193.,  518.,  808.,  955., 1988., 1998., 1438., 1113.,\n",
       "        2292.]),\n",
       " array([  0.,  10.,  20.,  30.,  40.,  50.,  60.,  70.,  80.,  90., 100.]),\n",
       " <BarContainer object of 10 artists>)"
      ]
     },
     "execution_count": 61,
     "metadata": {},
     "output_type": "execute_result"
    },
    {
     "data": {
      "image/png": "[encoded data removed]",
      "text/plain": [
       "<Figure size 432x288 with 1 Axes>"
      ]
     },
     "metadata": {
      "needs_background": "light"
     },
     "output_type": "display_data"
    }
   ],
   "source": [
    "plt.hist(active['weekday_pct'])"
   ]
  },
  {
   "cell_type": "code",
   "execution_count": 60,
   "id": "fccd8657",
   "metadata": {},
   "outputs": [
    {
     "data": {
      "text/plain": [
       "(array([ 8349.,   310.,  1047.,  1611.,  1050.,  4110.,  2824.,  1827.,\n",
       "         1537., 15137.]),\n",
       " array([  0.,  10.,  20.,  30.,  40.,  50.,  60.,  70.,  80.,  90., 100.]),\n",
       " <BarContainer object of 10 artists>)"
      ]
     },
     "execution_count": 60,
     "metadata": {},
     "output_type": "execute_result"
    },
    {
     "data": {
      "image/png": "[encoded data removed]",
      "text/plain": [
       "<Figure size 432x288 with 1 Axes>"
      ]
     },
     "metadata": {
      "needs_background": "light"
     },
     "output_type": "display_data"
    }
   ],
   "source": [
    "plt.hist(inactive['weekday_pct'])"
   ]
  },
  {
   "cell_type": "markdown",
   "id": "d8dde311",
   "metadata": {},
   "source": [
    "The scaling makes this a little bit hard to read, but there's not much difference between active/inactive here"
   ]
  },
  {
   "cell_type": "markdown",
   "id": "e096e2e1",
   "metadata": {},
   "source": [
    "### Modeling"
   ]
  },
  {
   "cell_type": "markdown",
   "id": "273bae32",
   "metadata": {},
   "source": [
    "Since the categorical features are significantly better than the categorical features, I'm going to use a random forest model with dummy variables for the three categorical variables, along with engineered features that tell us whether trips_in_first_30_days, surge_pct and avg_dist were above a threshhold"
   ]
  },
  {
   "cell_type": "code",
   "execution_count": 66,
   "id": "2d461edd",
   "metadata": {},
   "outputs": [],
   "source": [
    "df = df.dropna()\n",
    "df = df.reset_index(drop = True)"
   ]
  },
  {
   "cell_type": "code",
   "execution_count": 69,
   "id": "696ba1e9",
   "metadata": {},
   "outputs": [],
   "source": [
    "df['high_initial_trips'] = np.where(df['trips_in_first_30_days']>4, 1, 0)"
   ]
  },
  {
   "cell_type": "code",
   "execution_count": 71,
   "id": "fac461a1",
   "metadata": {},
   "outputs": [],
   "source": [
    "df['high_surge_pct'] = np.where(df['surge_pct']>9.0, 1, 0)"
   ]
  },
  {
   "cell_type": "code",
   "execution_count": 72,
   "id": "affca681",
   "metadata": {},
   "outputs": [],
   "source": [
    "df['high_dist'] = np.where(df['avg_dist']>9.0, 1, 0)"
   ]
  },
  {
   "cell_type": "code",
   "execution_count": 74,
   "id": "191564f3",
   "metadata": {},
   "outputs": [],
   "source": [
    "df = df.drop(['trips_in_first_30_days','signup_date', 'avg_rating_of_driver', 'avg_surge','last_trip_date', 'surge_pct'\n",
    "             , 'weekday_pct', 'avg_dist', 'avg_rating_by_driver'], axis=1)"
   ]
  },
  {
   "cell_type": "code",
   "execution_count": 75,
   "id": "d9d80d40",
   "metadata": {},
   "outputs": [],
   "source": [
    "df['ultimate_black_user'] = (df['ultimate_black_user']).astype(int)"
   ]
  },
  {
   "cell_type": "code",
   "execution_count": 76,
   "id": "01b27136",
   "metadata": {},
   "outputs": [],
   "source": [
    "phone = pd.get_dummies(df['phone'])\n",
    "city = pd.get_dummies(df['city'])"
   ]
  },
  {
   "cell_type": "code",
   "execution_count": 77,
   "id": "1825faf8",
   "metadata": {},
   "outputs": [],
   "source": [
    "df = pd.concat([df, phone, city], axis=1)"
   ]
  },
  {
   "cell_type": "code",
   "execution_count": 78,
   "id": "5f093e0e",
   "metadata": {},
   "outputs": [],
   "source": [
    "df = df.drop(['phone', 'city'], axis=1)"
   ]
  },
  {
   "cell_type": "code",
   "execution_count": 79,
   "id": "f35e6207",
   "metadata": {},
   "outputs": [
    {
     "data": {
      "text/html": [
       "<div>\n",
       "<style scoped>\n",
       "    .dataframe tbody tr th:only-of-type {\n",
       "        vertical-align: middle;\n",
       "    }\n",
       "\n",
       "    .dataframe tbody tr th {\n",
       "        vertical-align: top;\n",
       "    }\n",
       "\n",
       "    .dataframe thead th {\n",
       "        text-align: right;\n",
       "    }\n",
       "</style>\n",
       "<table border=\"1\" class=\"dataframe\">\n",
       "  <thead>\n",
       "    <tr style=\"text-align: right;\">\n",
       "      <th></th>\n",
       "      <th>ultimate_black_user</th>\n",
       "      <th>active</th>\n",
       "      <th>high_initial_trips</th>\n",
       "      <th>high_surge_pct</th>\n",
       "      <th>high_dist</th>\n",
       "      <th>Android</th>\n",
       "      <th>iPhone</th>\n",
       "      <th>Astapor</th>\n",
       "      <th>King's Landing</th>\n",
       "      <th>Winterfell</th>\n",
       "    </tr>\n",
       "  </thead>\n",
       "  <tbody>\n",
       "    <tr>\n",
       "      <th>0</th>\n",
       "      <td>1</td>\n",
       "      <td>0</td>\n",
       "      <td>0</td>\n",
       "      <td>1</td>\n",
       "      <td>0</td>\n",
       "      <td>0</td>\n",
       "      <td>1</td>\n",
       "      <td>0</td>\n",
       "      <td>1</td>\n",
       "      <td>0</td>\n",
       "    </tr>\n",
       "    <tr>\n",
       "      <th>1</th>\n",
       "      <td>0</td>\n",
       "      <td>0</td>\n",
       "      <td>0</td>\n",
       "      <td>0</td>\n",
       "      <td>0</td>\n",
       "      <td>1</td>\n",
       "      <td>0</td>\n",
       "      <td>1</td>\n",
       "      <td>0</td>\n",
       "      <td>0</td>\n",
       "    </tr>\n",
       "    <tr>\n",
       "      <th>2</th>\n",
       "      <td>0</td>\n",
       "      <td>0</td>\n",
       "      <td>0</td>\n",
       "      <td>0</td>\n",
       "      <td>0</td>\n",
       "      <td>0</td>\n",
       "      <td>1</td>\n",
       "      <td>1</td>\n",
       "      <td>0</td>\n",
       "      <td>0</td>\n",
       "    </tr>\n",
       "    <tr>\n",
       "      <th>3</th>\n",
       "      <td>1</td>\n",
       "      <td>1</td>\n",
       "      <td>1</td>\n",
       "      <td>1</td>\n",
       "      <td>0</td>\n",
       "      <td>0</td>\n",
       "      <td>1</td>\n",
       "      <td>0</td>\n",
       "      <td>1</td>\n",
       "      <td>0</td>\n",
       "    </tr>\n",
       "    <tr>\n",
       "      <th>4</th>\n",
       "      <td>0</td>\n",
       "      <td>0</td>\n",
       "      <td>1</td>\n",
       "      <td>1</td>\n",
       "      <td>0</td>\n",
       "      <td>1</td>\n",
       "      <td>0</td>\n",
       "      <td>0</td>\n",
       "      <td>0</td>\n",
       "      <td>1</td>\n",
       "    </tr>\n",
       "  </tbody>\n",
       "</table>\n",
       "</div>"
      ],
      "text/plain": [
       "   ultimate_black_user  active  high_initial_trips  high_surge_pct  high_dist  \\\n",
       "0                    1       0                   0               1          0   \n",
       "1                    0       0                   0               0          0   \n",
       "2                    0       0                   0               0          0   \n",
       "3                    1       1                   1               1          0   \n",
       "4                    0       0                   1               1          0   \n",
       "\n",
       "   Android  iPhone  Astapor  King's Landing  Winterfell  \n",
       "0        0       1        0               1           0  \n",
       "1        1       0        1               0           0  \n",
       "2        0       1        1               0           0  \n",
       "3        0       1        0               1           0  \n",
       "4        1       0        0               0           1  "
      ]
     },
     "execution_count": 79,
     "metadata": {},
     "output_type": "execute_result"
    }
   ],
   "source": [
    "df.head()"
   ]
  },
  {
   "cell_type": "code",
   "execution_count": 80,
   "id": "a99d7427",
   "metadata": {},
   "outputs": [],
   "source": [
    "y = df['active']\n",
    "X = df.drop('active', axis=1)"
   ]
  },
  {
   "cell_type": "code",
   "execution_count": 81,
   "id": "e5198e72",
   "metadata": {},
   "outputs": [],
   "source": [
    "from sklearn.model_selection import train_test_split\n",
    "Xtrain, Xtest, ytrain, ytest = train_test_split(\n",
    "    X, y)"
   ]
  },
  {
   "cell_type": "code",
   "execution_count": 82,
   "id": "26f12bde",
   "metadata": {},
   "outputs": [
    {
     "name": "stdout",
     "output_type": "stream",
     "text": [
      "Best parameters were {'n_estimators': 10}\n",
      "Best average precision was 0.68146567027056\n"
     ]
    }
   ],
   "source": [
    "from sklearn.ensemble import RandomForestClassifier\n",
    "from sklearn.model_selection import GridSearchCV\n",
    "clf = RandomForestClassifier(random_state=42, class_weight='balanced')\n",
    "params = {'n_estimators': [10, 50, 100, 200]}\n",
    "model = GridSearchCV(clf, params)\n",
    "model.fit(Xtrain, ytrain)\n",
    "print('Best parameters were', model.best_params_)\n",
    "print('Best average precision was', model.best_score_)"
   ]
  },
  {
   "cell_type": "code",
   "execution_count": 83,
   "id": "b8b49f9a",
   "metadata": {},
   "outputs": [
    {
     "name": "stdout",
     "output_type": "stream",
     "text": [
      "Accuracy 0.679212507237985\n",
      "              precision    recall  f1-score   support\n",
      "\n",
      "           0       0.85      0.68      0.76      7572\n",
      "           1       0.44      0.67      0.53      2790\n",
      "\n",
      "    accuracy                           0.68     10362\n",
      "   macro avg       0.64      0.68      0.64     10362\n",
      "weighted avg       0.74      0.68      0.70     10362\n",
      "\n"
     ]
    }
   ],
   "source": [
    "from sklearn.metrics import classification_report, accuracy_score\n",
    "model = RandomForestClassifier(\n",
    "    random_state=42, class_weight='balanced', n_estimators=100\n",
    ")\n",
    "model.fit(Xtrain, ytrain)\n",
    "ypred = model.predict(Xtest)\n",
    "print('Accuracy', accuracy_score(ytest, ypred))\n",
    "print(classification_report(ytest, ypred))"
   ]
  },
  {
   "cell_type": "code",
   "execution_count": 84,
   "id": "a76e3403",
   "metadata": {},
   "outputs": [
    {
     "data": {
      "image/png": "[encoded data removed]",
      "text/plain": [
       "<Figure size 432x288 with 1 Axes>"
      ]
     },
     "metadata": {
      "needs_background": "light"
     },
     "output_type": "display_data"
    }
   ],
   "source": [
    "import sklearn.metrics as metrics\n",
    "probs = model.predict_proba(Xtest)\n",
    "preds = probs[:,1]\n",
    "fpr, tpr, threshold = metrics.roc_curve(ytest, preds)\n",
    "roc_auc = metrics.auc(fpr, tpr)\n",
    "\n",
    "plt.title('Receiver Operating Characteristic')\n",
    "plt.plot(fpr, tpr, 'b', label = 'AUC = %0.2f' % roc_auc)\n",
    "plt.legend(loc = 'lower right')\n",
    "plt.plot([0, 1], [0, 1],'r--')\n",
    "plt.xlim([0, 1])\n",
    "plt.ylim([0, 1])\n",
    "plt.ylabel('True Positive Rate')\n",
    "plt.xlabel('False Positive Rate')\n",
    "plt.show()"
   ]
  },
  {
   "cell_type": "code",
   "execution_count": 90,
   "id": "880df5b6",
   "metadata": {},
   "outputs": [
    {
     "name": "stdout",
     "output_type": "stream",
     "text": [
      "high_initial_trips     0.194968\n",
      "ultimate_black_user    0.166752\n",
      "King's Landing         0.121574\n",
      "Android                0.117085\n",
      "high_surge_pct         0.110468\n",
      "iPhone                 0.107922\n",
      "Astapor                0.080692\n",
      "high_dist              0.067390\n",
      "Winterfell             0.033149\n",
      "dtype: float64\n"
     ]
    }
   ],
   "source": [
    "imp = pd.Series(model.feature_importances_, index=X.columns)\n",
    "imp = imp.sort_values(ascending=False)\n",
    "print(imp)"
   ]
  },
  {
   "cell_type": "markdown",
   "id": "509033d9",
   "metadata": {},
   "source": [
    "The most obvious recommendations are for Ultimate to look into why certain cities see higher retention than others, and look into why iPhone users are significantly more likely to use the product than Android users. Additionally, Ultimate should try to get more new signees to use the product frequently during their first 30 days"
   ]
  },
  {
   "cell_type": "code",
   "execution_count": null,
   "id": "b86940c2",
   "metadata": {},
   "outputs": [],
   "source": []
  }
 ],
 "metadata": {
  "kernelspec": {
   "display_name": "Python 3",
   "language": "python",
   "name": "python3"
  },
  "language_info": {
   "codemirror_mode": {
    "name": "ipython",
    "version": 3
   },
   "file_extension": ".py",
   "mimetype": "text/x-python",
   "name": "python",
   "nbconvert_exporter": "python",
   "pygments_lexer": "ipython3",
   "version": "3.8.8"
  }
 },
 "nbformat": 4,
 "nbformat_minor": 5
}
